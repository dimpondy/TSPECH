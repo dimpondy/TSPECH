{
  "nbformat": 4,
  "nbformat_minor": 0,
  "metadata": {
    "colab": {
      "name": "Term_Moyenne et incertitude type_ELEVE.ipynb",
      "provenance": []
    },
    "kernelspec": {
      "name": "python3",
      "display_name": "Python 3"
    }
  },
  "cells": [
    {
      "cell_type": "markdown",
      "metadata": {
        "id": "L3_sxmiYvpBg",
        "colab_type": "text"
      },
      "source": [
        "# Détermination de l'incertitude de mesure : Calcul de la Moyenne et de l'incertitude type de valeurs expérimentales"
      ]
    },
    {
      "cell_type": "code",
      "metadata": {
        "id": "Ybn7EbGCvn_G",
        "colab_type": "code",
        "outputId": "94fd5200-f80f-45fc-e91b-52363c68fb34",
        "colab": {
          "base_uri": "https://localhost:8080/",
          "height": 137
        }
      },
      "source": [
        "from math import*\n",
        "valeurs=[24,25,27,28,23,25]\n",
        "N=len(valeurs)\n",
        "# Calcul de la moyenne\n",
        "moyenne = sum(valeurs)/N\n",
        "# Calcul de l'écart-type\n",
        "v=0\n",
        "moy=moyenne(valeurs)\n",
        "  for i in range(N):\n",
        "      V=V+(valeurs[i]-moy)**2\n",
        "ecarttype =math.sqrt((V/(N-1))\n",
        "# Calcul de l'écart-type\n",
        "incertitude = ecarttype(valeurs)/(math.sqrt(N))\n",
        "\n",
        "\n"
      ],
      "execution_count": 0,
      "outputs": [
        {
          "output_type": "error",
          "ename": "SyntaxError",
          "evalue": "ignored",
          "traceback": [
            "\u001b[0;36m  File \u001b[0;32m\"<ipython-input-49-98e6a867e932>\"\u001b[0;36m, line \u001b[0;32m18\u001b[0m\n\u001b[0;31m    def incertitude(valeurs):\u001b[0m\n\u001b[0m      ^\u001b[0m\n\u001b[0;31mSyntaxError\u001b[0m\u001b[0;31m:\u001b[0m invalid syntax\n"
          ]
        }
      ]
    },
    {
      "cell_type": "code",
      "metadata": {
        "id": "DpjidQltROqf",
        "colab_type": "code",
        "colab": {}
      },
      "source": [
        ""
      ],
      "execution_count": 0,
      "outputs": []
    },
    {
      "cell_type": "code",
      "metadata": {
        "id": "TarJ8zXIRPNy",
        "colab_type": "code",
        "outputId": "01c49baa-1255-4e85-d6bf-b40722c1e748",
        "colab": {
          "base_uri": "https://localhost:8080/",
          "height": 137
        }
      },
      "source": [
        "from math import*\n",
        "valeurs=[24,25,27,28,23,25]\n",
        "N=len(valeurs)\n",
        "moyenne = sum(valeurs)/N\n",
        "\n",
        "moy=moyenne(valeurs)\n",
        "for i in range(N):\n",
        "    V=V+(valeurs[i]-moy)**2\n",
        "\n",
        "incertitude = math.sqrt((V/(N-1))/(math.sqrt(N))\n",
        "print(moyenne)\n"
      ],
      "execution_count": 0,
      "outputs": [
        {
          "output_type": "error",
          "ename": "SyntaxError",
          "evalue": "ignored",
          "traceback": [
            "\u001b[0;36m  File \u001b[0;32m\"<ipython-input-57-66b79265b80b>\"\u001b[0;36m, line \u001b[0;32m11\u001b[0m\n\u001b[0;31m    print(moyenne)\u001b[0m\n\u001b[0m        ^\u001b[0m\n\u001b[0;31mSyntaxError\u001b[0m\u001b[0;31m:\u001b[0m invalid syntax\n"
          ]
        }
      ]
    }
  ]
}